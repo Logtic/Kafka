{
 "cells": [
  {
   "cell_type": "markdown",
   "metadata": {},
   "source": [
    "# Kafka with Python\n",
    "- https://kafka-python.readthedocs.io/en/master/index.html\n",
    "- https://github.com/dpkp/kafka-python"
   ]
  },
  {
   "cell_type": "code",
   "execution_count": null,
   "metadata": {},
   "outputs": [],
   "source": [
    "# !pip install kafka"
   ]
  },
  {
   "cell_type": "code",
   "execution_count": null,
   "metadata": {},
   "outputs": [],
   "source": [
    "# !pip install msgpack"
   ]
  },
  {
   "cell_type": "code",
   "execution_count": 465,
   "metadata": {},
   "outputs": [],
   "source": [
    "from kafka import KafkaProducer\n",
    "from kafka import KafkaConsumer\n",
    "from kafka.client import KafkaClient\n",
    "from kafka import TopicPartition\n",
    "\n",
    "import json\n",
    "import msgpack"
   ]
  },
  {
   "cell_type": "markdown",
   "metadata": {},
   "source": [
    "<br></br><br></br>"
   ]
  },
  {
   "cell_type": "markdown",
   "metadata": {},
   "source": [
    "## 0. Broker\n",
    "- topic을 생성한 이후부터 확인 가능"
   ]
  },
  {
   "cell_type": "code",
   "execution_count": 300,
   "metadata": {},
   "outputs": [],
   "source": [
    "zookeeper_servers = [\"13.209.19.6:2181\"]\n",
    "bootstrap_servers = [\"13.125.54.81:9092\"]"
   ]
  },
  {
   "cell_type": "markdown",
   "metadata": {},
   "source": [
    "### 0.1 브로커의 상태확인"
   ]
  },
  {
   "cell_type": "code",
   "execution_count": 466,
   "metadata": {},
   "outputs": [],
   "source": [
    "client = KafkaClient(bootstrap_servers=bootstrap_servers)"
   ]
  },
  {
   "cell_type": "code",
   "execution_count": 467,
   "metadata": {},
   "outputs": [
    {
     "data": {
      "text/plain": [
       "{BrokerMetadata(nodeId=1, host='ip-172-31-31-106.ap-northeast-2.compute.internal', port=9092, rack=None)}"
      ]
     },
     "execution_count": 467,
     "metadata": {},
     "output_type": "execute_result"
    }
   ],
   "source": [
    "client.cluster.brokers()"
   ]
  },
  {
   "cell_type": "code",
   "execution_count": 468,
   "metadata": {
    "scrolled": true
   },
   "outputs": [
    {
     "data": {
      "text/plain": [
       "True"
      ]
     },
     "execution_count": 468,
     "metadata": {},
     "output_type": "execute_result"
    }
   ],
   "source": [
    "## 브로커 아이디 입력\n",
    "client.connected(1)"
   ]
  },
  {
   "cell_type": "markdown",
   "metadata": {},
   "source": [
    "### 0.2 브로커의 정보확인"
   ]
  },
  {
   "cell_type": "code",
   "execution_count": 469,
   "metadata": {},
   "outputs": [],
   "source": [
    "## 브로커 아이디 입력\n",
    "metadata = client.cluster.broker_metadata(1)"
   ]
  },
  {
   "cell_type": "code",
   "execution_count": 470,
   "metadata": {
    "scrolled": true
   },
   "outputs": [
    {
     "name": "stdout",
     "output_type": "stream",
     "text": [
      "1\n",
      "ip-172-31-31-106.ap-northeast-2.compute.internal\n",
      "9092\n"
     ]
    }
   ],
   "source": [
    "print(metadata.nodeId)\n",
    "print(metadata.host)\n",
    "print(metadata.port)"
   ]
  },
  {
   "cell_type": "markdown",
   "metadata": {},
   "source": [
    "### 0.3 브로커의 파티션 확인"
   ]
  },
  {
   "cell_type": "code",
   "execution_count": 471,
   "metadata": {
    "scrolled": true
   },
   "outputs": [
    {
     "data": {
      "text/plain": [
       "{TopicPartition(topic='topic-180812-1', partition=0),\n",
       " TopicPartition(topic='topic-180818-1', partition=0),\n",
       " TopicPartition(topic='topic-180818-2', partition=0),\n",
       " TopicPartition(topic='topic-180818-byte', partition=0)}"
      ]
     },
     "execution_count": 471,
     "metadata": {},
     "output_type": "execute_result"
    }
   ],
   "source": [
    "## 브로커 아이디 입력\n",
    "metadata2 = client.cluster.partitions_for_broker(1)\n",
    "metadata2"
   ]
  },
  {
   "cell_type": "markdown",
   "metadata": {},
   "source": [
    "### 0.4 브로커의 토픽 확인"
   ]
  },
  {
   "cell_type": "code",
   "execution_count": 472,
   "metadata": {
    "scrolled": true
   },
   "outputs": [
    {
     "data": {
      "text/plain": [
       "{'topic-180812-1', 'topic-180818-1', 'topic-180818-2', 'topic-180818-byte'}"
      ]
     },
     "execution_count": 472,
     "metadata": {},
     "output_type": "execute_result"
    }
   ],
   "source": [
    "metadata3 = client.cluster.topics()\n",
    "metadata3"
   ]
  },
  {
   "cell_type": "code",
   "execution_count": 474,
   "metadata": {
    "scrolled": true
   },
   "outputs": [
    {
     "name": "stdout",
     "output_type": "stream",
     "text": [
      "{0}\n"
     ]
    }
   ],
   "source": [
    "metadata4 = client.cluster.partitions_for_topic(\"topic-180812-1\")\n",
    "print(metadata4)"
   ]
  },
  {
   "cell_type": "markdown",
   "metadata": {},
   "source": [
    "<br></br><br></br>"
   ]
  },
  {
   "cell_type": "markdown",
   "metadata": {},
   "source": [
    "## 1. Producer\n",
    "- https://github.com/dpkp/kafka-python/issues/601"
   ]
  },
  {
   "cell_type": "markdown",
   "metadata": {},
   "source": [
    "### 1.1 producer 객체 생성\n",
    "- 브로커의 ip주소와 port번호 입력"
   ]
  },
  {
   "cell_type": "code",
   "execution_count": 309,
   "metadata": {},
   "outputs": [],
   "source": [
    "producer = KafkaProducer(bootstrap_servers=bootstrap_servers)"
   ]
  },
  {
   "cell_type": "markdown",
   "metadata": {},
   "source": [
    "### 1.2 메시지 전송\n",
    "- 브로커에게 메시지를 보낼 때는 byte자료형이나 json처럼 직렬화가 가능한 메시지만  전송가능\n",
    "- int, string 등의 자료형은 직렬화가 불가능하기 때문에 에러 발생\n",
    "- topic이 없을 경우에는 자동 생성\n",
    "    - server.properties에 지정된 partition수 만큼 partition 생성\n",
    "    \n",
    "    \n",
    "- 먼저 kafka에 \"topic-180818-1\"이라는 topic을 만들어준 후, 실습을 진행\n",
    "    - replication factor = 1\n",
    "    - partitions = 3"
   ]
  },
  {
   "cell_type": "code",
   "execution_count": 310,
   "metadata": {},
   "outputs": [],
   "source": [
    "# 에러발생\n",
    "# producer.send(\"topic-180818-1\", 'error')"
   ]
  },
  {
   "cell_type": "code",
   "execution_count": 311,
   "metadata": {},
   "outputs": [],
   "source": [
    "for i in range(4) :\n",
    "    producer.send(\"topic-180818-byte\", b'byte-msg-%d'%i)"
   ]
  },
  {
   "cell_type": "code",
   "execution_count": 312,
   "metadata": {
    "scrolled": true
   },
   "outputs": [],
   "source": [
    "for c in \"5678\" :\n",
    "    producer.send(\"topic-180818-1\", json.dumps(\"msg-{}\".format(c)).encode('utf-8'))"
   ]
  },
  {
   "cell_type": "markdown",
   "metadata": {},
   "source": [
    "### 1.3 직렬화 설정\n",
    "- 객체를 생성할 때 직렬화 방식을 선택할 수 있음\n",
    "- 직렬화란?\n",
    "    - 객체의 내용을 바이트 단위로 변환하여 파일 또는 네트워크를 통해서 스트림(송수신)이 가능하게 하는것을 의미\n",
    "    - 잡한 객체의 내용을 저장/복원하거나, 네트워크로 전송하기 위해서는 객체의 멤버변수의 각 내용을 일정한 형식으로 만들어 전송"
   ]
  },
  {
   "cell_type": "code",
   "execution_count": 313,
   "metadata": {},
   "outputs": [],
   "source": [
    "producer = KafkaProducer(bootstrap_servers=bootstrap_servers, \n",
    "                         value_serializer=lambda v: json.dumps(v).encode('utf-8'))"
   ]
  },
  {
   "cell_type": "code",
   "execution_count": 314,
   "metadata": {},
   "outputs": [],
   "source": [
    "for i in range(9,13) :\n",
    "    producer.send(\"topic-180818-1\", 'seriazlized-msg-{}'.format(i))"
   ]
  },
  {
   "cell_type": "code",
   "execution_count": 315,
   "metadata": {},
   "outputs": [],
   "source": [
    "#producer = KafkaProducer(bootstrap_servers=bootstrap_servers, \n",
    "#                         value_serializer=msgpack.dumps)"
   ]
  },
  {
   "cell_type": "code",
   "execution_count": 316,
   "metadata": {},
   "outputs": [],
   "source": [
    "#producer.send('topic-180818-key-value./binka', {'key1': 'value1'})"
   ]
  },
  {
   "cell_type": "markdown",
   "metadata": {},
   "source": [
    "### 1.4 acks\n",
    "- acks : kafka가 producer에 메시지 write에 대한 결과를 보내기 위해 필요한 승인(복사) 횟수\n",
    "    - acks = 0 : 결과에 상관 없이 다음 메시지 전송\n",
    "    - acks = 1 : 리더에게만 write가 되면 다음 메시지 전송\n",
    "    - acks = all : ISR의 팔로워 한 대에 복사본이 만들어지면 다음 메시지 전송"
   ]
  },
  {
   "cell_type": "code",
   "execution_count": 317,
   "metadata": {},
   "outputs": [],
   "source": [
    "producer = KafkaProducer(bootstrap_servers=bootstrap_servers, \n",
    "                         acks=1,\n",
    "                         value_serializer=lambda v: json.dumps(v).encode('utf-8'))"
   ]
  },
  {
   "cell_type": "code",
   "execution_count": 318,
   "metadata": {},
   "outputs": [],
   "source": [
    "for i in range(13,17) :\n",
    "    producer.send(\"topic-180818-1\", 'acks-msg-{}'.format(i))"
   ]
  },
  {
   "cell_type": "markdown",
   "metadata": {},
   "source": [
    "### 1.5 key\n",
    "- key를 지정하면 같은 key를 가진 데이터는 해당 topic의 같은 partition으로 넘어감"
   ]
  },
  {
   "cell_type": "code",
   "execution_count": 319,
   "metadata": {},
   "outputs": [],
   "source": [
    "for i in range(17,21) :\n",
    "    if i%2 == 1 :\n",
    "        producer.send(\"topic-180818-1\", \n",
    "                      key='1', \n",
    "                      value='key1-msg-{}'.format(i))\n",
    "    else :\n",
    "        producer.send(\"topic-180818-1\", \n",
    "                      key='2', \n",
    "                      value='key2-msg-{}'.format(i))"
   ]
  },
  {
   "cell_type": "markdown",
   "metadata": {},
   "source": [
    "### 1.6 동기 전송과 비동기 전송\n",
    "- 전송결과를 확인\n",
    "    - 동기 전송 : 전송결과가 도착하면, 다음 메시지 전송\n",
    "    - 비동기 전송 : 전송결과에 상관없이 다음 메시지 전송"
   ]
  },
  {
   "cell_type": "markdown",
   "metadata": {},
   "source": [
    "#### 1.6.1 메타데이터(전송결과) 확인"
   ]
  },
  {
   "cell_type": "code",
   "execution_count": 320,
   "metadata": {},
   "outputs": [],
   "source": [
    "metadata = producer.send(\"topic-180818-1\", 'sync msg')"
   ]
  },
  {
   "cell_type": "code",
   "execution_count": 321,
   "metadata": {
    "scrolled": true
   },
   "outputs": [
    {
     "name": "stdout",
     "output_type": "stream",
     "text": [
      "RecordMetadata(topic='topic-180818-1', partition=0, topic_partition=TopicPartition(topic='topic-180818-1', partition=0), offset=12, timestamp=-1, checksum=1620915337, serialized_key_size=-1, serialized_value_size=10)\n",
      "\n",
      "topic-180818-1\n",
      "0\n",
      "12\n"
     ]
    }
   ],
   "source": [
    "print(metadata.get())\n",
    "print(\"\")\n",
    "\n",
    "print(metadata.get().topic)\n",
    "print(metadata.get().partition)\n",
    "print(metadata.get().offset)"
   ]
  },
  {
   "cell_type": "markdown",
   "metadata": {},
   "source": [
    "#### 1.6.2 동기전송"
   ]
  },
  {
   "cell_type": "code",
   "execution_count": 322,
   "metadata": {},
   "outputs": [],
   "source": [
    "producer = KafkaProducer(bootstrap_servers=bootstrap_servers, \n",
    "                         acks=1,\n",
    "                         retries=3,\n",
    "                         value_serializer=lambda v: json.dumps(v).encode('utf-8'))"
   ]
  },
  {
   "cell_type": "code",
   "execution_count": 323,
   "metadata": {
    "scrolled": true
   },
   "outputs": [
    {
     "name": "stdout",
     "output_type": "stream",
     "text": [
      "Success 0\n",
      "topic-180818-1\n",
      "0\n",
      "13\n",
      "\n",
      "Success 1\n",
      "topic-180818-1\n",
      "0\n",
      "14\n",
      "\n",
      "Success 2\n",
      "topic-180818-1\n",
      "0\n",
      "15\n",
      "\n",
      "Success 3\n",
      "topic-180818-1\n",
      "0\n",
      "16\n",
      "\n"
     ]
    }
   ],
   "source": [
    "for i in range(4) :\n",
    "    metadata = producer.send(\"topic-180818-1\", \"sync msg-{}\".format(i))\n",
    "    \n",
    "    try:\n",
    "        result = metadata.get()\n",
    "        print(\"Success\", i)\n",
    "        print(result.topic)\n",
    "        print(result.partition)\n",
    "        print(result.offset)\n",
    "        print(\"\")\n",
    "    except KafkaError:\n",
    "        print(\"Failure\", i)\n",
    "        log.exception()\n",
    "        print(\"\")"
   ]
  },
  {
   "cell_type": "markdown",
   "metadata": {},
   "source": [
    "#### 1.6.3 비동기전송\n",
    "- acks=0"
   ]
  },
  {
   "cell_type": "code",
   "execution_count": 324,
   "metadata": {},
   "outputs": [],
   "source": [
    "producer = KafkaProducer(bootstrap_servers=bootstrap_servers, \n",
    "                         acks=0,\n",
    "                         value_serializer=lambda v: json.dumps(v).encode('utf-8'))"
   ]
  },
  {
   "cell_type": "code",
   "execution_count": 325,
   "metadata": {},
   "outputs": [],
   "source": [
    "def on_send_success(record_metadata):\n",
    "    print(\"Success\")\n",
    "    print(record_metadata.topic)\n",
    "    print(record_metadata.partition)\n",
    "    print(record_metadata.offset)\n",
    "    print(\"\")\n",
    "\n",
    "def on_send_error(excp):\n",
    "    print(\"Failure\")\n",
    "    log.error('error', exc_info=excp)\n",
    "    print(\"\")"
   ]
  },
  {
   "cell_type": "code",
   "execution_count": 326,
   "metadata": {},
   "outputs": [],
   "source": [
    "for _ in range(10):\n",
    "    producer.send(\"topic-180818-1\", 'async msg-{}'.format(_))"
   ]
  },
  {
   "cell_type": "code",
   "execution_count": 327,
   "metadata": {
    "scrolled": true
   },
   "outputs": [
    {
     "data": {
      "text/plain": [
       "<kafka.producer.future.FutureRecordMetadata at 0x7f4b9a96de80>"
      ]
     },
     "execution_count": 327,
     "metadata": {},
     "output_type": "execute_result"
    },
    {
     "name": "stdout",
     "output_type": "stream",
     "text": [
      "Success\n",
      "topic-180818-1\n",
      "0\n",
      "-1\n",
      "\n"
     ]
    }
   ],
   "source": [
    "producer.send(\"topic-180818-1\", 'asnync with callback').add_callback(on_send_success).add_errback(on_send_error)"
   ]
  },
  {
   "cell_type": "markdown",
   "metadata": {},
   "source": [
    "### 1.7 여러 개의 topic으로 메시지 보내기"
   ]
  },
  {
   "cell_type": "code",
   "execution_count": 328,
   "metadata": {},
   "outputs": [],
   "source": [
    "for i in range(5):\n",
    "    producer.send('topic-180818-1', 'producer to two topic msg-{}'.format(i))\n",
    "    producer.send('topic-180818-2', 'producer to two topic msg-{}'.format(i))"
   ]
  },
  {
   "cell_type": "markdown",
   "metadata": {},
   "source": [
    "### 1.8 한 토픽에 여러 producer가 메시지 보내기"
   ]
  },
  {
   "cell_type": "code",
   "execution_count": 329,
   "metadata": {},
   "outputs": [],
   "source": [
    "producer1 = KafkaProducer(bootstrap_servers=bootstrap_servers, \n",
    "                          value_serializer=lambda v: json.dumps(v).encode('utf-8'))\n",
    "\n",
    "producer2 = KafkaProducer(bootstrap_servers=bootstrap_servers, \n",
    "                          value_serializer=lambda v: json.dumps(v).encode('utf-8'))"
   ]
  },
  {
   "cell_type": "code",
   "execution_count": 330,
   "metadata": {},
   "outputs": [],
   "source": [
    "meta1 = producer1.send('topic-180818-1', 'producer1 msg')\n",
    "meta2 = producer2.send('topic-180818-1', 'producer2 msg')"
   ]
  },
  {
   "cell_type": "code",
   "execution_count": 331,
   "metadata": {},
   "outputs": [
    {
     "name": "stdout",
     "output_type": "stream",
     "text": [
      "RecordMetadata(topic='topic-180818-1', partition=0, topic_partition=TopicPartition(topic='topic-180818-1', partition=0), offset=34, timestamp=-1, checksum=1380428995, serialized_key_size=-1, serialized_value_size=15)\n",
      "\n",
      "RecordMetadata(topic='topic-180818-1', partition=0, topic_partition=TopicPartition(topic='topic-180818-1', partition=0), offset=33, timestamp=-1, checksum=-724312467, serialized_key_size=-1, serialized_value_size=15)\n"
     ]
    }
   ],
   "source": [
    "print(meta1.get())\n",
    "print(\"\")\n",
    "print(meta2.get())"
   ]
  },
  {
   "cell_type": "markdown",
   "metadata": {},
   "source": [
    "### 1.9 topic의 partition 확인"
   ]
  },
  {
   "cell_type": "code",
   "execution_count": 332,
   "metadata": {
    "scrolled": false
   },
   "outputs": [
    {
     "data": {
      "text/plain": [
       "{0}"
      ]
     },
     "execution_count": 332,
     "metadata": {},
     "output_type": "execute_result"
    }
   ],
   "source": [
    "producer.partitions_for(\"topic-180818-1\")"
   ]
  },
  {
   "cell_type": "code",
   "execution_count": 333,
   "metadata": {},
   "outputs": [
    {
     "data": {
      "text/plain": [
       "{0}"
      ]
     },
     "execution_count": 333,
     "metadata": {},
     "output_type": "execute_result"
    }
   ],
   "source": [
    "producer.partitions_for(\"topic-180818-2\")"
   ]
  },
  {
   "cell_type": "markdown",
   "metadata": {},
   "source": [
    "### 1.10 producer의 환경 설정 확인\n",
    "- 자유롭게 설정 가능"
   ]
  },
  {
   "cell_type": "code",
   "execution_count": 334,
   "metadata": {
    "scrolled": true
   },
   "outputs": [
    {
     "data": {
      "text/plain": [
       "{'acks': 0,\n",
       " 'api_version': (0, 11, 0),\n",
       " 'api_version_auto_timeout_ms': 2000,\n",
       " 'batch_size': 16384,\n",
       " 'bootstrap_servers': ['13.125.54.81:9092'],\n",
       " 'buffer_memory': 33554432,\n",
       " 'client_id': 'kafka-python-producer-30',\n",
       " 'compression_type': None,\n",
       " 'connections_max_idle_ms': 540000,\n",
       " 'key_serializer': None,\n",
       " 'linger_ms': 0,\n",
       " 'max_block_ms': 60000,\n",
       " 'max_in_flight_requests_per_connection': 5,\n",
       " 'max_request_size': 1048576,\n",
       " 'metadata_max_age_ms': 300000,\n",
       " 'metric_reporters': [],\n",
       " 'metrics_num_samples': 2,\n",
       " 'metrics_sample_window_ms': 30000,\n",
       " 'partitioner': <kafka.partitioner.default.DefaultPartitioner at 0x7f4bc0142160>,\n",
       " 'receive_buffer_bytes': None,\n",
       " 'reconnect_backoff_max': 1000,\n",
       " 'reconnect_backoff_ms': 50,\n",
       " 'request_timeout_ms': 30000,\n",
       " 'retries': 0,\n",
       " 'retry_backoff_ms': 100,\n",
       " 'sasl_mechanism': None,\n",
       " 'sasl_plain_password': None,\n",
       " 'sasl_plain_username': None,\n",
       " 'security_protocol': 'PLAINTEXT',\n",
       " 'selector': selectors.EpollSelector,\n",
       " 'send_buffer_bytes': None,\n",
       " 'socket_options': [(6, 1, 1)],\n",
       " 'ssl_cafile': None,\n",
       " 'ssl_certfile': None,\n",
       " 'ssl_check_hostname': True,\n",
       " 'ssl_context': None,\n",
       " 'ssl_crlfile': None,\n",
       " 'ssl_keyfile': None,\n",
       " 'ssl_password': None,\n",
       " 'value_serializer': <function __main__.<lambda>>}"
      ]
     },
     "execution_count": 334,
     "metadata": {},
     "output_type": "execute_result"
    }
   ],
   "source": [
    "producer.config"
   ]
  },
  {
   "cell_type": "markdown",
   "metadata": {},
   "source": [
    "### 1.7 버퍼가 채워지지 않더라도 메시지 보내기"
   ]
  },
  {
   "cell_type": "code",
   "execution_count": 335,
   "metadata": {},
   "outputs": [],
   "source": [
    "#producer.flush()"
   ]
  },
  {
   "cell_type": "markdown",
   "metadata": {},
   "source": [
    "<br></br><br></br>"
   ]
  },
  {
   "cell_type": "markdown",
   "metadata": {},
   "source": [
    "## Consumer"
   ]
  },
  {
   "cell_type": "markdown",
   "metadata": {},
   "source": [
    "### 1.1 consumer객체 생성\n",
    "- 브로커의 ip주소와 port번호 입력\n",
    "- consumer group id 설정\n",
    "- topic 설정"
   ]
  },
  {
   "cell_type": "code",
   "execution_count": 357,
   "metadata": {},
   "outputs": [],
   "source": [
    "consumer_byte = KafkaConsumer(\"topic-180818-byte\",\n",
    "                              bootstrap_servers=bootstrap_servers, \n",
    "                              group_id = None,\n",
    "                              enable_auto_commit=True,\n",
    "                              auto_offset_reset='earliest',\n",
    "                              consumer_timeout_ms = 5000\n",
    "                             )"
   ]
  },
  {
   "cell_type": "markdown",
   "metadata": {},
   "source": [
    "### 1.2 메시지 가져오기\n",
    "- 브로커에게 메시지를 보낼 때는 byte자료형이나 json처럼 직렬화가 가능한 메시지만 전송가능\n",
    "- int, string 등의 자료형은 직렬화가 불가능하기 때문에 에러 발생"
   ]
  },
  {
   "cell_type": "code",
   "execution_count": 358,
   "metadata": {
    "scrolled": false
   },
   "outputs": [
    {
     "name": "stdout",
     "output_type": "stream",
     "text": [
      "msg-0\n",
      "topic-180818-byte 0 0 None\n",
      "\n",
      "msg-1\n",
      "topic-180818-byte 0 1 None\n",
      "\n",
      "msg-2\n",
      "topic-180818-byte 0 2 None\n",
      "\n",
      "msg-3\n",
      "topic-180818-byte 0 3 None\n",
      "\n",
      "finished --- 2\n"
     ]
    }
   ],
   "source": [
    "try : \n",
    "    for msg in consumer_byte :\n",
    "        print(msg.value.decode(\"utf-8\"))\n",
    "        print(msg.topic, msg.partition, msg.offset, msg.key)\n",
    "        print(\"\")\n",
    "    \n",
    "except :\n",
    "    consumer.close()\n",
    "    print(\"finished --- 1\")\n",
    "    \n",
    "finally :\n",
    "    consumer.close()\n",
    "    print(\"finished --- 2\")"
   ]
  },
  {
   "cell_type": "code",
   "execution_count": 359,
   "metadata": {},
   "outputs": [],
   "source": [
    "consumer = KafkaConsumer(\"topic-180818-1\",\n",
    "                         bootstrap_servers=bootstrap_servers, \n",
    "                         group_id = None,\n",
    "                         enable_auto_commit=True,\n",
    "                         auto_offset_reset='earliest',\n",
    "                         consumer_timeout_ms = 5000\n",
    "                        )"
   ]
  },
  {
   "cell_type": "code",
   "execution_count": 360,
   "metadata": {},
   "outputs": [
    {
     "name": "stdout",
     "output_type": "stream",
     "text": [
      "\"byte-msg-5\"\n",
      "topic-180818-1\n",
      "0\n",
      "0\n",
      "None\n",
      "\n",
      "\"byte-msg-6\"\n",
      "topic-180818-1\n",
      "0\n",
      "1\n",
      "None\n",
      "\n",
      "\"byte-msg-7\"\n",
      "topic-180818-1\n",
      "0\n",
      "2\n",
      "None\n",
      "\n",
      "\"byte-msg-8\"\n",
      "topic-180818-1\n",
      "0\n",
      "3\n",
      "None\n",
      "\n",
      "\"seriazlized-msg-9\"\n",
      "topic-180818-1\n",
      "0\n",
      "4\n",
      "None\n",
      "\n",
      "\"seriazlized-msg-10\"\n",
      "topic-180818-1\n",
      "0\n",
      "5\n",
      "None\n",
      "\n",
      "\"seriazlized-msg-11\"\n",
      "topic-180818-1\n",
      "0\n",
      "6\n",
      "None\n",
      "\n",
      "\"seriazlized-msg-12\"\n",
      "topic-180818-1\n",
      "0\n",
      "7\n",
      "None\n",
      "\n",
      "\"acks-msg-13\"\n",
      "topic-180818-1\n",
      "0\n",
      "8\n",
      "None\n",
      "\n",
      "\"acks-msg-14\"\n",
      "topic-180818-1\n",
      "0\n",
      "9\n",
      "None\n",
      "\n",
      "\"acks-msg-15\"\n",
      "topic-180818-1\n",
      "0\n",
      "10\n",
      "None\n",
      "\n",
      "\"acks-msg-16\"\n",
      "topic-180818-1\n",
      "0\n",
      "11\n",
      "None\n",
      "\n",
      "\"sync msg\"\n",
      "topic-180818-1\n",
      "0\n",
      "12\n",
      "None\n",
      "\n",
      "\"sync msg-0\"\n",
      "topic-180818-1\n",
      "0\n",
      "13\n",
      "None\n",
      "\n",
      "\"sync msg-1\"\n",
      "topic-180818-1\n",
      "0\n",
      "14\n",
      "None\n",
      "\n",
      "\"sync msg-2\"\n",
      "topic-180818-1\n",
      "0\n",
      "15\n",
      "None\n",
      "\n",
      "\"sync msg-3\"\n",
      "topic-180818-1\n",
      "0\n",
      "16\n",
      "None\n",
      "\n",
      "\"async msg-0\"\n",
      "topic-180818-1\n",
      "0\n",
      "17\n",
      "None\n",
      "\n",
      "\"async msg-1\"\n",
      "topic-180818-1\n",
      "0\n",
      "18\n",
      "None\n",
      "\n",
      "\"async msg-2\"\n",
      "topic-180818-1\n",
      "0\n",
      "19\n",
      "None\n",
      "\n",
      "\"async msg-3\"\n",
      "topic-180818-1\n",
      "0\n",
      "20\n",
      "None\n",
      "\n",
      "\"async msg-4\"\n",
      "topic-180818-1\n",
      "0\n",
      "21\n",
      "None\n",
      "\n",
      "\"async msg-5\"\n",
      "topic-180818-1\n",
      "0\n",
      "22\n",
      "None\n",
      "\n",
      "\"async msg-6\"\n",
      "topic-180818-1\n",
      "0\n",
      "23\n",
      "None\n",
      "\n",
      "\"async msg-7\"\n",
      "topic-180818-1\n",
      "0\n",
      "24\n",
      "None\n",
      "\n",
      "\"async msg-8\"\n",
      "topic-180818-1\n",
      "0\n",
      "25\n",
      "None\n",
      "\n",
      "\"async msg-9\"\n",
      "topic-180818-1\n",
      "0\n",
      "26\n",
      "None\n",
      "\n",
      "\"asnync with callback\"\n",
      "topic-180818-1\n",
      "0\n",
      "27\n",
      "None\n",
      "\n",
      "\"producer to two topic msg-0\"\n",
      "topic-180818-1\n",
      "0\n",
      "28\n",
      "None\n",
      "\n",
      "\"producer to two topic msg-1\"\n",
      "topic-180818-1\n",
      "0\n",
      "29\n",
      "None\n",
      "\n",
      "\"producer to two topic msg-2\"\n",
      "topic-180818-1\n",
      "0\n",
      "30\n",
      "None\n",
      "\n",
      "\"producer to two topic msg-3\"\n",
      "topic-180818-1\n",
      "0\n",
      "31\n",
      "None\n",
      "\n",
      "\"producer to two topic msg-4\"\n",
      "topic-180818-1\n",
      "0\n",
      "32\n",
      "None\n",
      "\n",
      "\"producer2 msg\"\n",
      "topic-180818-1\n",
      "0\n",
      "33\n",
      "None\n",
      "\n",
      "\"producer1 msg\"\n",
      "topic-180818-1\n",
      "0\n",
      "34\n",
      "None\n",
      "\n",
      "finished --- 2\n"
     ]
    }
   ],
   "source": [
    "try : \n",
    "    for msg in consumer :\n",
    "        print(msg.value.decode(\"utf-8\"))\n",
    "        print(msg.topic)\n",
    "        print(msg.partition)\n",
    "        print(msg.offset)\n",
    "        print(msg.key)\n",
    "        print(\"\")\n",
    "    \n",
    "except :\n",
    "    print(\"finished --- 1\")\n",
    "    consumer.close()\n",
    "    \n",
    "finally :\n",
    "    print(\"finished --- 2\")\n",
    "    consumer.close()"
   ]
  },
  {
   "cell_type": "markdown",
   "metadata": {},
   "source": [
    "### 1.3 여러 topic으로부터 메시지 가져오기"
   ]
  },
  {
   "cell_type": "code",
   "execution_count": 364,
   "metadata": {},
   "outputs": [],
   "source": [
    "consumer = KafkaConsumer(\"topic-180818-1\", \"topic-180818-2\",\n",
    "                         bootstrap_servers=bootstrap_servers, \n",
    "                         group_id = None,\n",
    "                         enable_auto_commit=True,\n",
    "                         auto_offset_reset='earliest',\n",
    "                         consumer_timeout_ms = 5000\n",
    "                        )"
   ]
  },
  {
   "cell_type": "code",
   "execution_count": 365,
   "metadata": {},
   "outputs": [
    {
     "name": "stdout",
     "output_type": "stream",
     "text": [
      "\"producer to two topic msg-0\"\n",
      "topic-180818-2 0 0 None\n",
      "\n",
      "\"producer to two topic msg-1\"\n",
      "topic-180818-2 0 1 None\n",
      "\n",
      "\"producer to two topic msg-2\"\n",
      "topic-180818-2 0 2 None\n",
      "\n",
      "\"producer to two topic msg-3\"\n",
      "topic-180818-2 0 3 None\n",
      "\n",
      "\"producer to two topic msg-4\"\n",
      "topic-180818-2 0 4 None\n",
      "\n",
      "\"byte-msg-5\"\n",
      "topic-180818-1 0 0 None\n",
      "\n",
      "\"byte-msg-6\"\n",
      "topic-180818-1 0 1 None\n",
      "\n",
      "\"byte-msg-7\"\n",
      "topic-180818-1 0 2 None\n",
      "\n",
      "\"byte-msg-8\"\n",
      "topic-180818-1 0 3 None\n",
      "\n",
      "\"seriazlized-msg-9\"\n",
      "topic-180818-1 0 4 None\n",
      "\n",
      "\"seriazlized-msg-10\"\n",
      "topic-180818-1 0 5 None\n",
      "\n",
      "\"seriazlized-msg-11\"\n",
      "topic-180818-1 0 6 None\n",
      "\n",
      "\"seriazlized-msg-12\"\n",
      "topic-180818-1 0 7 None\n",
      "\n",
      "\"acks-msg-13\"\n",
      "topic-180818-1 0 8 None\n",
      "\n",
      "\"acks-msg-14\"\n",
      "topic-180818-1 0 9 None\n",
      "\n",
      "\"acks-msg-15\"\n",
      "topic-180818-1 0 10 None\n",
      "\n",
      "\"acks-msg-16\"\n",
      "topic-180818-1 0 11 None\n",
      "\n",
      "\"sync msg\"\n",
      "topic-180818-1 0 12 None\n",
      "\n",
      "\"sync msg-0\"\n",
      "topic-180818-1 0 13 None\n",
      "\n",
      "\"sync msg-1\"\n",
      "topic-180818-1 0 14 None\n",
      "\n",
      "\"sync msg-2\"\n",
      "topic-180818-1 0 15 None\n",
      "\n",
      "\"sync msg-3\"\n",
      "topic-180818-1 0 16 None\n",
      "\n",
      "\"async msg-0\"\n",
      "topic-180818-1 0 17 None\n",
      "\n",
      "\"async msg-1\"\n",
      "topic-180818-1 0 18 None\n",
      "\n",
      "\"async msg-2\"\n",
      "topic-180818-1 0 19 None\n",
      "\n",
      "\"async msg-3\"\n",
      "topic-180818-1 0 20 None\n",
      "\n",
      "\"async msg-4\"\n",
      "topic-180818-1 0 21 None\n",
      "\n",
      "\"async msg-5\"\n",
      "topic-180818-1 0 22 None\n",
      "\n",
      "\"async msg-6\"\n",
      "topic-180818-1 0 23 None\n",
      "\n",
      "\"async msg-7\"\n",
      "topic-180818-1 0 24 None\n",
      "\n",
      "\"async msg-8\"\n",
      "topic-180818-1 0 25 None\n",
      "\n",
      "\"async msg-9\"\n",
      "topic-180818-1 0 26 None\n",
      "\n",
      "\"asnync with callback\"\n",
      "topic-180818-1 0 27 None\n",
      "\n",
      "\"producer to two topic msg-0\"\n",
      "topic-180818-1 0 28 None\n",
      "\n",
      "\"producer to two topic msg-1\"\n",
      "topic-180818-1 0 29 None\n",
      "\n",
      "\"producer to two topic msg-2\"\n",
      "topic-180818-1 0 30 None\n",
      "\n",
      "\"producer to two topic msg-3\"\n",
      "topic-180818-1 0 31 None\n",
      "\n",
      "\"producer to two topic msg-4\"\n",
      "topic-180818-1 0 32 None\n",
      "\n",
      "\"producer2 msg\"\n",
      "topic-180818-1 0 33 None\n",
      "\n",
      "\"producer1 msg\"\n",
      "topic-180818-1 0 34 None\n",
      "\n"
     ]
    }
   ],
   "source": [
    "for msg in consumer :\n",
    "    print(msg.value.decode(\"utf-8\"))\n",
    "    print(msg.topic, msg.partition, msg.offset, msg.key)\n",
    "    print(\"\")\n",
    "    \n",
    "consumer.close()"
   ]
  },
  {
   "cell_type": "markdown",
   "metadata": {},
   "source": [
    "### 1.4 현재 구독하는 topic 확인"
   ]
  },
  {
   "cell_type": "code",
   "execution_count": 363,
   "metadata": {},
   "outputs": [
    {
     "data": {
      "text/plain": [
       "{'topic-180818-1', 'topic-180818-2', 'topic-180818-byte'}"
      ]
     },
     "execution_count": 363,
     "metadata": {},
     "output_type": "execute_result"
    }
   ],
   "source": [
    "consumer.subscription()"
   ]
  },
  {
   "cell_type": "markdown",
   "metadata": {},
   "source": [
    "### 1.5 구독하는 topic 추가\n",
    "- Consumer를 생성할 때, 객체 생성을 해주지 않았을 경우에 사용"
   ]
  },
  {
   "cell_type": "code",
   "execution_count": 370,
   "metadata": {},
   "outputs": [],
   "source": [
    "consumer = KafkaConsumer(bootstrap_servers=bootstrap_servers, \n",
    "                         group_id = None,\n",
    "                         enable_auto_commit=True,\n",
    "                         auto_offset_reset='earliest',\n",
    "                         consumer_timeout_ms = 5000\n",
    "                        )"
   ]
  },
  {
   "cell_type": "code",
   "execution_count": 371,
   "metadata": {},
   "outputs": [
    {
     "data": {
      "text/plain": [
       "{'topic-180818-byte'}"
      ]
     },
     "execution_count": 371,
     "metadata": {},
     "output_type": "execute_result"
    }
   ],
   "source": [
    "consumer.subscribe(\"topic-180818-byte\")\n",
    "consumer.subscription()"
   ]
  },
  {
   "cell_type": "code",
   "execution_count": 372,
   "metadata": {},
   "outputs": [
    {
     "name": "stdout",
     "output_type": "stream",
     "text": [
      "msg-0\n",
      "topic-180818-byte 0 0 None\n",
      "\n",
      "msg-1\n",
      "topic-180818-byte 0 1 None\n",
      "\n",
      "msg-2\n",
      "topic-180818-byte 0 2 None\n",
      "\n",
      "msg-3\n",
      "topic-180818-byte 0 3 None\n",
      "\n"
     ]
    }
   ],
   "source": [
    "for msg in consumer :\n",
    "    print(msg.value.decode(\"utf-8\"))\n",
    "    print(msg.topic, msg.partition, msg.offset, msg.key)\n",
    "    print(\"\")\n",
    "    \n",
    "consumer.close()"
   ]
  },
  {
   "cell_type": "markdown",
   "metadata": {},
   "source": [
    "### 1.6 여러 컨슈머가 한 토픽으로 부터 메시지 가져오기"
   ]
  },
  {
   "cell_type": "code",
   "execution_count": 490,
   "metadata": {},
   "outputs": [],
   "source": [
    "consumer1 = KafkaConsumer(\"topic-180818-1\",\n",
    "                          bootstrap_servers=bootstrap_servers, \n",
    "                          group_id = None,\n",
    "                          enable_auto_commit=True,\n",
    "                          auto_offset_reset='earliest',\n",
    "                          consumer_timeout_ms = 5000\n",
    "                         )\n",
    "\n",
    "consumer2 = KafkaConsumer(\"topic-180818-1\",\n",
    "                          bootstrap_servers=bootstrap_servers, \n",
    "                          group_id = None,\n",
    "                          enable_auto_commit=True,\n",
    "                          auto_offset_reset='earliest',\n",
    "                          consumer_timeout_ms = 5000\n",
    "                         )"
   ]
  },
  {
   "cell_type": "code",
   "execution_count": 383,
   "metadata": {},
   "outputs": [
    {
     "name": "stdout",
     "output_type": "stream",
     "text": [
      "-----Consuemr 1-----\n",
      "\"byte-msg-5\"\n",
      "topic-180818-1 0 0 None\n",
      "\n",
      "\"byte-msg-6\"\n",
      "topic-180818-1 0 1 None\n",
      "\n",
      "\"byte-msg-7\"\n",
      "topic-180818-1 0 2 None\n",
      "\n",
      "\"byte-msg-8\"\n",
      "topic-180818-1 0 3 None\n",
      "\n",
      "\"seriazlized-msg-9\"\n",
      "topic-180818-1 0 4 None\n",
      "\n",
      "\"seriazlized-msg-10\"\n",
      "topic-180818-1 0 5 None\n",
      "\n",
      "\"seriazlized-msg-11\"\n",
      "topic-180818-1 0 6 None\n",
      "\n",
      "\"seriazlized-msg-12\"\n",
      "topic-180818-1 0 7 None\n",
      "\n",
      "\"acks-msg-13\"\n",
      "topic-180818-1 0 8 None\n",
      "\n",
      "\"acks-msg-14\"\n",
      "topic-180818-1 0 9 None\n",
      "\n",
      "\"acks-msg-15\"\n",
      "topic-180818-1 0 10 None\n",
      "\n",
      "\"acks-msg-16\"\n",
      "topic-180818-1 0 11 None\n",
      "\n",
      "\"sync msg\"\n",
      "topic-180818-1 0 12 None\n",
      "\n",
      "\"sync msg-0\"\n",
      "topic-180818-1 0 13 None\n",
      "\n",
      "\"sync msg-1\"\n",
      "topic-180818-1 0 14 None\n",
      "\n",
      "\"sync msg-2\"\n",
      "topic-180818-1 0 15 None\n",
      "\n",
      "\"sync msg-3\"\n",
      "topic-180818-1 0 16 None\n",
      "\n",
      "\"async msg-0\"\n",
      "topic-180818-1 0 17 None\n",
      "\n",
      "\"async msg-1\"\n",
      "topic-180818-1 0 18 None\n",
      "\n",
      "\"async msg-2\"\n",
      "topic-180818-1 0 19 None\n",
      "\n",
      "\"async msg-3\"\n",
      "topic-180818-1 0 20 None\n",
      "\n",
      "\"async msg-4\"\n",
      "topic-180818-1 0 21 None\n",
      "\n",
      "\"async msg-5\"\n",
      "topic-180818-1 0 22 None\n",
      "\n",
      "\"async msg-6\"\n",
      "topic-180818-1 0 23 None\n",
      "\n",
      "\"async msg-7\"\n",
      "topic-180818-1 0 24 None\n",
      "\n",
      "\"async msg-8\"\n",
      "topic-180818-1 0 25 None\n",
      "\n",
      "\"async msg-9\"\n",
      "topic-180818-1 0 26 None\n",
      "\n",
      "\"asnync with callback\"\n",
      "topic-180818-1 0 27 None\n",
      "\n",
      "\"producer to two topic msg-0\"\n",
      "topic-180818-1 0 28 None\n",
      "\n",
      "\"producer to two topic msg-1\"\n",
      "topic-180818-1 0 29 None\n",
      "\n",
      "\"producer to two topic msg-2\"\n",
      "topic-180818-1 0 30 None\n",
      "\n",
      "\"producer to two topic msg-3\"\n",
      "topic-180818-1 0 31 None\n",
      "\n",
      "\"producer to two topic msg-4\"\n",
      "topic-180818-1 0 32 None\n",
      "\n",
      "\"producer2 msg\"\n",
      "topic-180818-1 0 33 None\n",
      "\n",
      "\"producer1 msg\"\n",
      "topic-180818-1 0 34 None\n",
      "\n",
      "\n",
      "\n",
      "\n",
      "-----Consuemr 2-----\n",
      "\"byte-msg-5\"\n",
      "topic-180818-1 0 0 None\n",
      "\n",
      "\"byte-msg-6\"\n",
      "topic-180818-1 0 1 None\n",
      "\n",
      "\"byte-msg-7\"\n",
      "topic-180818-1 0 2 None\n",
      "\n",
      "\"byte-msg-8\"\n",
      "topic-180818-1 0 3 None\n",
      "\n",
      "\"seriazlized-msg-9\"\n",
      "topic-180818-1 0 4 None\n",
      "\n",
      "\"seriazlized-msg-10\"\n",
      "topic-180818-1 0 5 None\n",
      "\n",
      "\"seriazlized-msg-11\"\n",
      "topic-180818-1 0 6 None\n",
      "\n",
      "\"seriazlized-msg-12\"\n",
      "topic-180818-1 0 7 None\n",
      "\n",
      "\"acks-msg-13\"\n",
      "topic-180818-1 0 8 None\n",
      "\n",
      "\"acks-msg-14\"\n",
      "topic-180818-1 0 9 None\n",
      "\n",
      "\"acks-msg-15\"\n",
      "topic-180818-1 0 10 None\n",
      "\n",
      "\"acks-msg-16\"\n",
      "topic-180818-1 0 11 None\n",
      "\n",
      "\"sync msg\"\n",
      "topic-180818-1 0 12 None\n",
      "\n",
      "\"sync msg-0\"\n",
      "topic-180818-1 0 13 None\n",
      "\n",
      "\"sync msg-1\"\n",
      "topic-180818-1 0 14 None\n",
      "\n",
      "\"sync msg-2\"\n",
      "topic-180818-1 0 15 None\n",
      "\n",
      "\"sync msg-3\"\n",
      "topic-180818-1 0 16 None\n",
      "\n",
      "\"async msg-0\"\n",
      "topic-180818-1 0 17 None\n",
      "\n",
      "\"async msg-1\"\n",
      "topic-180818-1 0 18 None\n",
      "\n",
      "\"async msg-2\"\n",
      "topic-180818-1 0 19 None\n",
      "\n",
      "\"async msg-3\"\n",
      "topic-180818-1 0 20 None\n",
      "\n",
      "\"async msg-4\"\n",
      "topic-180818-1 0 21 None\n",
      "\n",
      "\"async msg-5\"\n",
      "topic-180818-1 0 22 None\n",
      "\n",
      "\"async msg-6\"\n",
      "topic-180818-1 0 23 None\n",
      "\n",
      "\"async msg-7\"\n",
      "topic-180818-1 0 24 None\n",
      "\n",
      "\"async msg-8\"\n",
      "topic-180818-1 0 25 None\n",
      "\n",
      "\"async msg-9\"\n",
      "topic-180818-1 0 26 None\n",
      "\n",
      "\"asnync with callback\"\n",
      "topic-180818-1 0 27 None\n",
      "\n",
      "\"producer to two topic msg-0\"\n",
      "topic-180818-1 0 28 None\n",
      "\n",
      "\"producer to two topic msg-1\"\n",
      "topic-180818-1 0 29 None\n",
      "\n",
      "\"producer to two topic msg-2\"\n",
      "topic-180818-1 0 30 None\n",
      "\n",
      "\"producer to two topic msg-3\"\n",
      "topic-180818-1 0 31 None\n",
      "\n",
      "\"producer to two topic msg-4\"\n",
      "topic-180818-1 0 32 None\n",
      "\n",
      "\"producer2 msg\"\n",
      "topic-180818-1 0 33 None\n",
      "\n",
      "\"producer1 msg\"\n",
      "topic-180818-1 0 34 None\n",
      "\n"
     ]
    }
   ],
   "source": [
    "print(\"-----Consuemr 1-----\")\n",
    "for msg in consumer1 :\n",
    "    print(msg.value.decode(\"utf-8\"))\n",
    "    print(msg.topic, msg.partition, msg.offset, msg.key)\n",
    "    print(\"\")\n",
    "\n",
    "consumer1.close()\n",
    "\n",
    "print(\"\\n\\n\")\n",
    "print(\"-----Consuemr 2-----\")\n",
    "for msg in consumer2 :\n",
    "    print(msg.value.decode(\"utf-8\"))\n",
    "    print(msg.topic, msg.partition, msg.offset, msg.key)\n",
    "    print(\"\")\n",
    "\n",
    "consumer2.close()"
   ]
  },
  {
   "cell_type": "markdown",
   "metadata": {},
   "source": [
    "### 1.7 컨슈머에게 읽어야하는 토픽과 partition 배정하기\n",
    "- 특정 토픽에 대하여 원하는 파티션만 읽기"
   ]
  },
  {
   "cell_type": "code",
   "execution_count": 462,
   "metadata": {},
   "outputs": [],
   "source": [
    "consumer = KafkaConsumer(bootstrap_servers=bootstrap_servers, \n",
    "                          group_id = None,\n",
    "                          enable_auto_commit=True,\n",
    "                          auto_offset_reset='earliest',\n",
    "                          consumer_timeout_ms = 5000\n",
    "                         )"
   ]
  },
  {
   "cell_type": "code",
   "execution_count": 463,
   "metadata": {},
   "outputs": [],
   "source": [
    "consumer.assign([TopicPartition(\"topic-180818-2\", 0), TopicPartition(\"topic-180818-byte\", 0)])"
   ]
  },
  {
   "cell_type": "code",
   "execution_count": 464,
   "metadata": {},
   "outputs": [
    {
     "name": "stdout",
     "output_type": "stream",
     "text": [
      "msg-0\n",
      "topic-180818-byte 0 0 None\n",
      "\n",
      "msg-1\n",
      "topic-180818-byte 0 1 None\n",
      "\n",
      "msg-2\n",
      "topic-180818-byte 0 2 None\n",
      "\n",
      "msg-3\n",
      "topic-180818-byte 0 3 None\n",
      "\n",
      "\"producer to two topic msg-0\"\n",
      "topic-180818-2 0 0 None\n",
      "\n",
      "\"producer to two topic msg-1\"\n",
      "topic-180818-2 0 1 None\n",
      "\n",
      "\"producer to two topic msg-2\"\n",
      "topic-180818-2 0 2 None\n",
      "\n",
      "\"producer to two topic msg-3\"\n",
      "topic-180818-2 0 3 None\n",
      "\n",
      "\"producer to two topic msg-4\"\n",
      "topic-180818-2 0 4 None\n",
      "\n"
     ]
    }
   ],
   "source": [
    "for msg in consumer :\n",
    "    print(msg.value.decode(\"utf-8\"))\n",
    "    print(msg.topic, msg.partition, msg.offset, msg.key)\n",
    "    print(\"\")\n",
    "\n",
    "consumer.close()"
   ]
  },
  {
   "cell_type": "markdown",
   "metadata": {},
   "source": [
    "### 1.8 원하는 파티션의 특정 offset만 확인하기\n",
    "- 지정된 offset 이후의 메시지만 확인가능"
   ]
  },
  {
   "cell_type": "code",
   "execution_count": 578,
   "metadata": {},
   "outputs": [],
   "source": [
    "consumer = KafkaConsumer(bootstrap_servers=bootstrap_servers, \n",
    "                         group_id = None,\n",
    "                         enable_auto_commit=True,\n",
    "                         consumer_timeout_ms = 5000,\n",
    "                         auto_offset_reset='smallest'\n",
    "                        )"
   ]
  },
  {
   "cell_type": "code",
   "execution_count": 579,
   "metadata": {},
   "outputs": [],
   "source": [
    "consumer.assign([TopicPartition(\"topic-180818-2\", 0), TopicPartition(\"topic-180818-byte\", 0)])"
   ]
  },
  {
   "cell_type": "code",
   "execution_count": 580,
   "metadata": {},
   "outputs": [],
   "source": [
    "consumer.seek(TopicPartition(\"topic-180818-2\", 0), 4)"
   ]
  },
  {
   "cell_type": "code",
   "execution_count": 581,
   "metadata": {
    "scrolled": false
   },
   "outputs": [
    {
     "name": "stdout",
     "output_type": "stream",
     "text": [
      "msg-0\n",
      "topic-180818-byte 0 0 None\n",
      "\n",
      "msg-1\n",
      "topic-180818-byte 0 1 None\n",
      "\n",
      "msg-2\n",
      "topic-180818-byte 0 2 None\n",
      "\n",
      "msg-3\n",
      "topic-180818-byte 0 3 None\n",
      "\n",
      "\"producer to two topic msg-4\"\n",
      "topic-180818-2 0 4 None\n",
      "\n"
     ]
    }
   ],
   "source": [
    "for msg in consumer :\n",
    "    print(msg.value.decode(\"utf-8\"))\n",
    "    print(msg.topic, msg.partition, msg.offset, msg.key)\n",
    "    print(\"\")\n",
    "\n",
    "consumer.close()"
   ]
  },
  {
   "cell_type": "markdown",
   "metadata": {},
   "source": [
    "### 1.9 원하는 파티션의 처음부터 읽기"
   ]
  },
  {
   "cell_type": "code",
   "execution_count": 560,
   "metadata": {},
   "outputs": [],
   "source": [
    "consumer = KafkaConsumer(bootstrap_servers=bootstrap_servers, \n",
    "                         group_id = None,\n",
    "                         enable_auto_commit=True,\n",
    "                         consumer_timeout_ms = 5000,\n",
    "                         auto_offset_reset='smallest'\n",
    "                        )"
   ]
  },
  {
   "cell_type": "code",
   "execution_count": 561,
   "metadata": {},
   "outputs": [],
   "source": [
    "consumer.assign([TopicPartition(\"topic-180818-2\", 0), TopicPartition(\"topic-180818-byte\", 0)])"
   ]
  },
  {
   "cell_type": "code",
   "execution_count": 562,
   "metadata": {},
   "outputs": [],
   "source": [
    "consumer.seek_to_beginning(TopicPartition(\"topic-180818-2\", 0))"
   ]
  },
  {
   "cell_type": "code",
   "execution_count": 563,
   "metadata": {
    "scrolled": true
   },
   "outputs": [
    {
     "name": "stdout",
     "output_type": "stream",
     "text": [
      "\"producer to two topic msg-0\"\n",
      "topic-180818-2 0 0 None\n",
      "\n",
      "\"producer to two topic msg-1\"\n",
      "topic-180818-2 0 1 None\n",
      "\n",
      "\"producer to two topic msg-2\"\n",
      "topic-180818-2 0 2 None\n",
      "\n",
      "\"producer to two topic msg-3\"\n",
      "topic-180818-2 0 3 None\n",
      "\n",
      "\"producer to two topic msg-4\"\n",
      "topic-180818-2 0 4 None\n",
      "\n",
      "msg-0\n",
      "topic-180818-byte 0 0 None\n",
      "\n",
      "msg-1\n",
      "topic-180818-byte 0 1 None\n",
      "\n",
      "msg-2\n",
      "topic-180818-byte 0 2 None\n",
      "\n",
      "msg-3\n",
      "topic-180818-byte 0 3 None\n",
      "\n"
     ]
    }
   ],
   "source": [
    "for msg in consumer :\n",
    "    print(msg.value.decode(\"utf-8\"))\n",
    "    print(msg.topic, msg.partition, msg.offset, msg.key)\n",
    "    print(\"\")\n",
    "\n",
    "consumer.close()"
   ]
  },
  {
   "cell_type": "markdown",
   "metadata": {},
   "source": [
    "### 1.10 원하는 파티션의 마지막부터 읽기\n",
    "- 해당 파티션은 모두 읽었다고 처리하는 것"
   ]
  },
  {
   "cell_type": "code",
   "execution_count": 574,
   "metadata": {},
   "outputs": [],
   "source": [
    "consumer = KafkaConsumer(bootstrap_servers=bootstrap_servers, \n",
    "                         group_id = None,\n",
    "                         enable_auto_commit=True,\n",
    "                         consumer_timeout_ms = 5000,\n",
    "                         auto_offset_reset='smallest'\n",
    "                        )"
   ]
  },
  {
   "cell_type": "code",
   "execution_count": 575,
   "metadata": {},
   "outputs": [],
   "source": [
    "consumer.assign([TopicPartition(\"topic-180818-2\", 0), TopicPartition(\"topic-180818-byte\", 0)])"
   ]
  },
  {
   "cell_type": "code",
   "execution_count": 576,
   "metadata": {},
   "outputs": [],
   "source": [
    "consumer.seek_to_end(TopicPartition(\"topic-180818-byte\", 0))"
   ]
  },
  {
   "cell_type": "code",
   "execution_count": 577,
   "metadata": {},
   "outputs": [
    {
     "name": "stdout",
     "output_type": "stream",
     "text": [
      "\"producer to two topic msg-0\"\n",
      "topic-180818-2 0 0 None\n",
      "\n",
      "\"producer to two topic msg-1\"\n",
      "topic-180818-2 0 1 None\n",
      "\n",
      "\"producer to two topic msg-2\"\n",
      "topic-180818-2 0 2 None\n",
      "\n",
      "\"producer to two topic msg-3\"\n",
      "topic-180818-2 0 3 None\n",
      "\n",
      "\"producer to two topic msg-4\"\n",
      "topic-180818-2 0 4 None\n",
      "\n"
     ]
    }
   ],
   "source": [
    "for msg in consumer :\n",
    "    print(msg.value.decode(\"utf-8\"))\n",
    "    print(msg.topic, msg.partition, msg.offset, msg.key)\n",
    "    print(\"\")\n",
    "\n",
    "consumer.close()"
   ]
  },
  {
   "cell_type": "markdown",
   "metadata": {},
   "source": [
    "### 1.9 토픽 파티션의 offset 확인하기\n",
    "- 토픽의 파티션 정보\n",
    "- 지정된 시간 이후의 가장 빠른 offset\n",
    "- 해당 partition의 마지막 offset\n",
    "- 현재 컨슈머가 commit한 offet 위치"
   ]
  },
  {
   "cell_type": "code",
   "execution_count": 508,
   "metadata": {},
   "outputs": [],
   "source": [
    "consumer = KafkaConsumer(\"topic-180818-2\",\n",
    "                         bootstrap_servers=bootstrap_servers, \n",
    "                         group_id = None,\n",
    "                         enable_auto_commit=True,\n",
    "                         auto_offset_reset='earliest',\n",
    "                         consumer_timeout_ms = 5000\n",
    "                        )"
   ]
  },
  {
   "cell_type": "code",
   "execution_count": 514,
   "metadata": {},
   "outputs": [
    {
     "data": {
      "text/plain": [
       "{0}"
      ]
     },
     "execution_count": 514,
     "metadata": {},
     "output_type": "execute_result"
    }
   ],
   "source": [
    "# 토픽의 파티션 정보\n",
    "consumer.partitions_for_topic(\"topic-180818-2\")"
   ]
  },
  {
   "cell_type": "code",
   "execution_count": 515,
   "metadata": {},
   "outputs": [
    {
     "data": {
      "text/plain": [
       "{TopicPartition(topic='topic-180818-2', partition=0): OffsetAndTimestamp(offset=0, timestamp=1534532425705)}"
      ]
     },
     "execution_count": 515,
     "metadata": {},
     "output_type": "execute_result"
    }
   ],
   "source": [
    "# 지정된 시간 이후의 가장 빠른 offset\n",
    "consumer.offsets_for_times({TopicPartition(\"topic-180818-2\", 0) :1000})"
   ]
  },
  {
   "cell_type": "code",
   "execution_count": 516,
   "metadata": {},
   "outputs": [
    {
     "data": {
      "text/plain": [
       "{TopicPartition(topic='topic-180818-2', partition=0): 5}"
      ]
     },
     "execution_count": 516,
     "metadata": {},
     "output_type": "execute_result"
    }
   ],
   "source": [
    "# 해당 partition의 마지막 offset\n",
    "consumer.end_offsets([TopicPartition(\"topic-180818-2\", 0)])"
   ]
  },
  {
   "cell_type": "code",
   "execution_count": 517,
   "metadata": {},
   "outputs": [
    {
     "data": {
      "text/plain": [
       "0"
      ]
     },
     "execution_count": 517,
     "metadata": {},
     "output_type": "execute_result"
    }
   ],
   "source": [
    "# 현재 컨슈머가 commit한 offet 위치\n",
    "consumer.position(TopicPartition(\"topic-180818-2\", 0))"
   ]
  },
  {
   "cell_type": "markdown",
   "metadata": {},
   "source": [
    "### 1.10 토픽 commit하기"
   ]
  },
  {
   "cell_type": "code",
   "execution_count": null,
   "metadata": {},
   "outputs": [],
   "source": [
    "#consumer.commit()"
   ]
  },
  {
   "cell_type": "markdown",
   "metadata": {},
   "source": [
    "### 1.11 환경설정 확인하기"
   ]
  },
  {
   "cell_type": "code",
   "execution_count": 390,
   "metadata": {},
   "outputs": [
    {
     "data": {
      "text/plain": [
       "{'api_version': (0, 11, 0),\n",
       " 'api_version_auto_timeout_ms': 2000,\n",
       " 'auto_commit_interval_ms': 5000,\n",
       " 'auto_offset_reset': 'earliest',\n",
       " 'bootstrap_servers': ['13.125.54.81:9092'],\n",
       " 'check_crcs': True,\n",
       " 'client_id': 'kafka-python-1.3.5',\n",
       " 'connections_max_idle_ms': 540000,\n",
       " 'consumer_timeout_ms': 5000,\n",
       " 'default_offset_commit_callback': <function kafka.consumer.group.KafkaConsumer.<lambda>>,\n",
       " 'enable_auto_commit': True,\n",
       " 'exclude_internal_topics': True,\n",
       " 'fetch_max_bytes': 52428800,\n",
       " 'fetch_max_wait_ms': 500,\n",
       " 'fetch_min_bytes': 1,\n",
       " 'group_id': None,\n",
       " 'heartbeat_interval_ms': 3000,\n",
       " 'key_deserializer': None,\n",
       " 'max_in_flight_requests_per_connection': 5,\n",
       " 'max_partition_fetch_bytes': 1048576,\n",
       " 'max_poll_records': 500,\n",
       " 'metadata_max_age_ms': 300000,\n",
       " 'metric_group_prefix': 'consumer',\n",
       " 'metric_reporters': [],\n",
       " 'metrics_num_samples': 2,\n",
       " 'metrics_sample_window_ms': 30000,\n",
       " 'partition_assignment_strategy': (kafka.coordinator.assignors.range.RangePartitionAssignor,\n",
       "  kafka.coordinator.assignors.roundrobin.RoundRobinPartitionAssignor),\n",
       " 'receive_buffer_bytes': None,\n",
       " 'reconnect_backoff_max_ms': 1000,\n",
       " 'reconnect_backoff_ms': 50,\n",
       " 'request_timeout_ms': 40000,\n",
       " 'retry_backoff_ms': 100,\n",
       " 'sasl_mechanism': None,\n",
       " 'sasl_plain_password': None,\n",
       " 'sasl_plain_username': None,\n",
       " 'security_protocol': 'PLAINTEXT',\n",
       " 'selector': selectors.EpollSelector,\n",
       " 'send_buffer_bytes': None,\n",
       " 'session_timeout_ms': 30000,\n",
       " 'skip_double_compressed_messages': False,\n",
       " 'socket_options': [(6, 1, 1)],\n",
       " 'ssl_cafile': None,\n",
       " 'ssl_certfile': None,\n",
       " 'ssl_check_hostname': True,\n",
       " 'ssl_context': None,\n",
       " 'ssl_crlfile': None,\n",
       " 'ssl_keyfile': None,\n",
       " 'ssl_password': None,\n",
       " 'value_deserializer': None}"
      ]
     },
     "execution_count": 390,
     "metadata": {},
     "output_type": "execute_result"
    }
   ],
   "source": [
    "consumer.config"
   ]
  },
  {
   "cell_type": "code",
   "execution_count": null,
   "metadata": {},
   "outputs": [],
   "source": []
  }
 ],
 "metadata": {
  "kernelspec": {
   "display_name": "Python 3",
   "language": "python",
   "name": "python3"
  },
  "language_info": {
   "codemirror_mode": {
    "name": "ipython",
    "version": 3
   },
   "file_extension": ".py",
   "mimetype": "text/x-python",
   "name": "python",
   "nbconvert_exporter": "python",
   "pygments_lexer": "ipython3",
   "version": "3.6.4"
  }
 },
 "nbformat": 4,
 "nbformat_minor": 2
}
